{
 "cells": [
  {
   "cell_type": "code",
   "execution_count": null,
   "id": "d37c9f5d",
   "metadata": {},
   "outputs": [],
   "source": [
    "import pandas as pd\n",
    "import re\n",
    "from transformers import pipeline, DistilBertTokenizerFast\n",
    "\n",
    "def parse_movies(file_path):\n",
    "    with open(file_path, 'r', encoding='utf-8') as file:\n",
    "        data = file.read()\n",
    "    \n",
    "    pattern = re.compile(r'(\\d+) ::: (.*?) ::: (.*?)\\n')\n",
    "    matches = pattern.findall(data)\n",
    "    \n",
    "    movies = []\n",
    "    for match in matches:\n",
    "        movie_id, title, description = match\n",
    "        movies.append({\n",
    "            'id': int(movie_id),\n",
    "            'title': title,\n",
    "            'description': description\n",
    "        })\n",
    "    \n",
    "    return pd.DataFrame(movies)\n",
    "\n",
    "\n",
    "file_path = 'test_data.txt'  \n",
    "movies_df = parse_movies(file_path)\n",
    "\n",
    "classifier = pipeline(\"text-classification\", model=\"distilbert-base-uncased-finetuned-sst-2-english\")\n",
    "tokenizer = DistilBertTokenizerFast.from_pretrained(\"distilbert-base-uncased\")\n",
    "\n",
    "def classify_genre(description):\n",
    "\n",
    "    tokens = tokenizer(description, truncation=True, max_length=512, return_tensors='pt')\n",
    "\n",
    "    truncated_description = tokenizer.decode(tokens.input_ids[0], skip_special_tokens=True)\n",
    "\n",
    "    result = classifier(truncated_description)\n",
    "\n",
    "    if result[0]['label'] == 'POSITIVE':\n",
    "        return 'drama'\n",
    "    else:\n",
    "        return 'thriller'\n",
    "\n",
    "movies_df['genre'] = movies_df['description'].apply(classify_genre)\n",
    "\n",
    "def format_output(row):\n",
    "    return f\"{row['id']} ::: {row['title']} ::: {row['genre']} ::: {row['description']}\"\n",
    "\n",
    "movies_df['formatted_output'] = movies_df.apply(format_output, axis=1)\n",
    "\n",
    "output_file_path = 'classified_movies.txt'\n",
    "with open(output_file_path, 'w', encoding='utf-8') as file:\n",
    "    for line in movies_df['formatted_output']:\n",
    "        file.write(line + '\\n')\n",
    "\n",
    "print(\"Classification complete. Results saved to classified_movies.txt\")\n"
   ]
  },
  {
   "cell_type": "code",
   "execution_count": null,
   "id": "e8813e3e",
   "metadata": {},
   "outputs": [],
   "source": []
  }
 ],
 "metadata": {
  "kernelspec": {
   "display_name": "Python 3 (ipykernel)",
   "language": "python",
   "name": "python3"
  },
  "language_info": {
   "codemirror_mode": {
    "name": "ipython",
    "version": 3
   },
   "file_extension": ".py",
   "mimetype": "text/x-python",
   "name": "python",
   "nbconvert_exporter": "python",
   "pygments_lexer": "ipython3",
   "version": "3.10.9"
  }
 },
 "nbformat": 4,
 "nbformat_minor": 5
}
